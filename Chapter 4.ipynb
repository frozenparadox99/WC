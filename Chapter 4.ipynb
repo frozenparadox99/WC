{
 "cells": [
  {
   "cell_type": "code",
   "execution_count": 121,
   "metadata": {},
   "outputs": [],
   "source": [
    "import numpy as np\n",
    "import pandas as pd\n",
    "import math\n",
    "from sympy import symbols,diff\n",
    "from sympy.solvers import solve"
   ]
  },
  {
   "cell_type": "code",
   "execution_count": 122,
   "metadata": {},
   "outputs": [],
   "source": [
    "def getLambda(freq):\n",
    "    return ((3*(10**8))/freq)"
   ]
  },
  {
   "cell_type": "code",
   "execution_count": 123,
   "metadata": {},
   "outputs": [],
   "source": [
    "def convertToDb(val):\n",
    "    return 10*math.log(val,10)"
   ]
  },
  {
   "cell_type": "code",
   "execution_count": 124,
   "metadata": {},
   "outputs": [
    {
     "data": {
      "text/plain": [
       "-14.814860601221122"
      ]
     },
     "execution_count": 124,
     "metadata": {},
     "output_type": "execute_result"
    }
   ],
   "source": [
    "convertToDb(0.033)"
   ]
  },
  {
   "cell_type": "code",
   "execution_count": 125,
   "metadata": {},
   "outputs": [
    {
     "data": {
      "text/plain": [
       "22.430380486862944"
      ]
     },
     "execution_count": 125,
     "metadata": {},
     "output_type": "execute_result"
    }
   ],
   "source": [
    "convertToDb(175)"
   ]
  },
  {
   "cell_type": "code",
   "execution_count": 126,
   "metadata": {},
   "outputs": [
    {
     "data": {
      "text/plain": [
       "-0.7918141976545233"
      ]
     },
     "execution_count": 126,
     "metadata": {},
     "output_type": "execute_result"
    }
   ],
   "source": [
    "convertToDb(0.833333)"
   ]
  },
  {
   "cell_type": "markdown",
   "metadata": {},
   "source": [
    "## Channel Capacity"
   ]
  },
  {
   "cell_type": "code",
   "execution_count": 127,
   "metadata": {},
   "outputs": [],
   "source": [
    "def calcChannelCapacity(B,Y,p,y0=1):\n",
    "    return (B*math.log(Y/y0,2)*p)"
   ]
  },
  {
   "cell_type": "code",
   "execution_count": 128,
   "metadata": {},
   "outputs": [],
   "source": [
    "def calcY(P,g,N0,B):\n",
    "    return ((P*g)/(N0*B))"
   ]
  },
  {
   "cell_type": "code",
   "execution_count": 129,
   "metadata": {},
   "outputs": [],
   "source": [
    "def calcCapacityFromLists(Pr,g_list,p_list,N0,B):\n",
    "    Y_list = []\n",
    "    i=0\n",
    "    summation = 0\n",
    "    for gi in g_list:\n",
    "        curr_Y = calcY(Pr,gi,N0,B)\n",
    "        print('Y{} is : {}'.format(i,curr_Y))\n",
    "        Y_list.append(curr_Y)\n",
    "        summation = summation + calcChannelCapacity(B,curr_Y,p_list[i])\n",
    "        i=i+1\n",
    "    return summation,Y_list"
   ]
  },
  {
   "cell_type": "code",
   "execution_count": 131,
   "metadata": {},
   "outputs": [],
   "source": [
    "def getAvgY(y_list,p_list):\n",
    "    summation=0\n",
    "    i=0\n",
    "    for val in y_list:\n",
    "        summation += val*p_list[i]\n",
    "        i+=1\n",
    "    return summation    "
   ]
  },
  {
   "cell_type": "code",
   "execution_count": 132,
   "metadata": {},
   "outputs": [
    {
     "name": "stdout",
     "output_type": "stream",
     "text": [
      "Given Power is 0.01\n",
      "Y0 is : 0.8333333333333334\n",
      "Y1 is : 83.33333333333333\n",
      "Y2 is : 333.3333333333333\n",
      "Capacity from the calc is : 195493.08494890376\n",
      "Average Y is : 175.08333333333334\n",
      "Capacity from avgY is : 223556.9383785567\n"
     ]
    }
   ],
   "source": [
    "## Example 4.2\n",
    "\n",
    "g = [0.0025,0.25,1]\n",
    "p = [0.1,0.5,0.4]\n",
    "\n",
    "Noise = 10**(-9)\n",
    "f = 30*(10**3)\n",
    "Given_Lambda = getLambda(f)\n",
    "\n",
    "Pt_Given = 10*(10**(-3))\n",
    "print('Given Power is {}'.format(Pt_Given))\n",
    "\n",
    "CapacityFromLists,Y_list = calcCapacityFromLists(Pt_Given,g,p,Noise,f)\n",
    "print('Capacity from the calc is : {}'.format(CapacityFromLists))\n",
    "\n",
    "print('Average Y is : {}'.format(getAvgY(Y_list,p)))\n",
    "print(\"Capacity from avgY is : {}\".format(calcChannelCapacity(f,getAvgY(Y_list,p),1)))\n"
   ]
  },
  {
   "cell_type": "markdown",
   "metadata": {},
   "source": [
    "## Ergodic Capacity"
   ]
  },
  {
   "cell_type": "code",
   "execution_count": 136,
   "metadata": {},
   "outputs": [],
   "source": [
    "def calcY0(y_list,p_list,p,starting_index):\n",
    "    summation = 1\n",
    "    while starting_index<len(y_list):\n",
    "        summation+=p_list[starting_index]/y_list[starting_index]\n",
    "        starting_index+=1\n",
    "    return p/summation\n",
    "                        "
   ]
  },
  {
   "cell_type": "code",
   "execution_count": 137,
   "metadata": {},
   "outputs": [],
   "source": [
    "def calcCapacityFromIndex(Pr,g_list,p_list,N0,B,startingIndex,y0=1):\n",
    "    Y_list = []\n",
    "    i=0\n",
    "    summation = 0\n",
    "    while startingIndex<len(g_list):\n",
    "        curr_Y = calcY(Pr,g_list[startingIndex],N0,B)\n",
    "        print('Y{} is : {}'.format(i,curr_Y))\n",
    "        Y_list.append(curr_Y)\n",
    "        print(calcChannelCapacity(B,curr_Y,p_list[i],y0))\n",
    "        summation = summation + calcChannelCapacity(B,curr_Y,p_list[startingIndex],y0)\n",
    "        i=i+1\n",
    "        startingIndex+=1\n",
    "    return summation"
   ]
  },
  {
   "cell_type": "code",
   "execution_count": 138,
   "metadata": {},
   "outputs": [
    {
     "data": {
      "text/plain": [
       "0.8935663224781573"
      ]
     },
     "execution_count": 138,
     "metadata": {},
     "output_type": "execute_result"
    }
   ],
   "source": [
    "calcY0(Y_list,p,0.9,1)"
   ]
  },
  {
   "cell_type": "code",
   "execution_count": 139,
   "metadata": {},
   "outputs": [
    {
     "name": "stdout",
     "output_type": "stream",
     "text": [
      "Y0 is : 83.33333333333333\n",
      "19632.269110445388\n",
      "Y1 is : 333.3333333333333\n",
      "128161.34555222692\n"
     ]
    },
    {
     "data": {
      "text/plain": [
       "200690.42199400847"
      ]
     },
     "execution_count": 139,
     "metadata": {},
     "output_type": "execute_result"
    }
   ],
   "source": [
    "calcCapacityFromIndex(Pt_Given,g,p,Noise,f,1,0.893)"
   ]
  },
  {
   "cell_type": "code",
   "execution_count": null,
   "metadata": {},
   "outputs": [],
   "source": []
  }
 ],
 "metadata": {
  "kernelspec": {
   "display_name": "Python 3",
   "language": "python",
   "name": "python3"
  },
  "language_info": {
   "codemirror_mode": {
    "name": "ipython",
    "version": 3
   },
   "file_extension": ".py",
   "mimetype": "text/x-python",
   "name": "python",
   "nbconvert_exporter": "python",
   "pygments_lexer": "ipython3",
   "version": "3.6.9"
  }
 },
 "nbformat": 4,
 "nbformat_minor": 4
}
