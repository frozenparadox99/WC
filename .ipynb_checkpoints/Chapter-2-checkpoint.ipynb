{
 "cells": [
  {
   "cell_type": "code",
   "execution_count": 43,
   "metadata": {},
   "outputs": [],
   "source": [
    "import numpy as np\n",
    "import pandas as pd\n",
    "import math\n",
    "from sympy import symbols,diff\n",
    "from sympy.solvers import solve"
   ]
  },
  {
   "cell_type": "markdown",
   "metadata": {},
   "source": [
    "## Get wavelength if frequency is given"
   ]
  },
  {
   "cell_type": "code",
   "execution_count": 3,
   "metadata": {},
   "outputs": [],
   "source": [
    "def getLambda(freq):\n",
    "    return ((3*(10**8))/freq)"
   ]
  },
  {
   "cell_type": "markdown",
   "metadata": {},
   "source": [
    "## Convert Power to dB"
   ]
  },
  {
   "cell_type": "code",
   "execution_count": 4,
   "metadata": {},
   "outputs": [],
   "source": [
    "def getPower(val):\n",
    "    return (10*math.log(val,10))"
   ]
  },
  {
   "cell_type": "code",
   "execution_count": 5,
   "metadata": {},
   "outputs": [],
   "source": [
    "def getPowerDbm(val):\n",
    "    return (10*math.log(val/0.001,10))"
   ]
  },
  {
   "cell_type": "markdown",
   "metadata": {},
   "source": [
    "## Calculate Pr, Pt etc\n",
    "\n",
    "Pr (dBm) = Pt (dBm) + 10 log10(Gl) + 20 log10(λ) − 20 log10(4π) − 20 log10(d)."
   ]
  },
  {
   "cell_type": "code",
   "execution_count": 7,
   "metadata": {},
   "outputs": [],
   "source": [
    "def calPrInDbm(Pt,Gl,Lambda,d):\n",
    "    return Pt + (10*math.log(Gl,10)) + (20*math.log(Lambda,10)) - (20*math.log(4*math.pi,10)) - (20*math.log(d,10)) (20*math.log(Lambda,10)) - (20*math.log(4*math.pi,10)) - (20*math.log(d,10))"
   ]
  },
  {
   "cell_type": "code",
   "execution_count": 8,
   "metadata": {},
   "outputs": [],
   "source": [
    "def calPtInDbm(Pr,Gl,Lambda,d):\n",
    "    return Pr - (10*math.log(Gl,10)) - (20*math.log(Lambda,10)) + (20*math.log(4*math.pi,10)) + (20*math.log(d,10))"
   ]
  },
  {
   "cell_type": "code",
   "execution_count": 9,
   "metadata": {},
   "outputs": [],
   "source": [
    "def calPt(Pr,Gl,Lambda,d):\n",
    "    return ((Pr * ((4*math.pi*d)**2))/((math.sqrt(Gl)*Lambda))**2)"
   ]
  },
  {
   "cell_type": "code",
   "execution_count": 11,
   "metadata": {},
   "outputs": [],
   "source": [
    "def calPr(Pt,Gl,Lambda,d):\n",
    "    return Pt + K - (10*Y*math.log(d/d0,10))"
   ]
  },
  {
   "cell_type": "code",
   "execution_count": 12,
   "metadata": {},
   "outputs": [
    {
     "name": "stdout",
     "output_type": "stream",
     "text": [
      "Power in Watts is : 142.12230337568676\n",
      "Power in dbw is : 21.52662237483517\n"
     ]
    }
   ],
   "source": [
    "## Example 2.1\n",
    "\n",
    "f = 900*(10**6)\n",
    "rad = 100\n",
    "recPower = 10*(10**(-6))\n",
    "txpower = calPt(recPower,1,getLambda(f),rad)\n",
    "print('Power in Watts is : {}'.format(txpower))\n",
    "print('Power in dbw is : {}'.format(getPower(txpower)))"
   ]
  },
  {
   "cell_type": "markdown",
   "metadata": {},
   "source": [
    "## 2 ray model\n",
    "\n",
    "Pr (dBm) = Pt (dBm) + 10 log10(Gl) + 20 log10(hthr) − 40 log10(d)"
   ]
  },
  {
   "cell_type": "code",
   "execution_count": 13,
   "metadata": {},
   "outputs": [],
   "source": [
    "def twoRayPrInDbm(Pt,Gl,ht,hr,d):\n",
    "    return Pt + (10*math.log(Gl,10)) + (20*math.log(ht*hr,10)) - (20*math.log(4*math.pi,10)) - (20*math.log(d,10))"
   ]
  },
  {
   "cell_type": "code",
   "execution_count": 14,
   "metadata": {},
   "outputs": [],
   "source": [
    "def twoRayPtInDbm(Pr,Gl,ht,hr,d):\n",
    "    return Pr - (10*math.log(Gl,10)) - (20*math.log(ht*hr,10)) + (20*math.log(4*math.pi,10)) + (20*math.log(d,10))"
   ]
  },
  {
   "cell_type": "code",
   "execution_count": 15,
   "metadata": {},
   "outputs": [],
   "source": [
    "def twoRayPr(Pt,Gl,Lambda,d):\n",
    "    return ((Pt * ((d)**(-2)))/((math.sqrt(Gl)*ht*hr))**(-2))"
   ]
  },
  {
   "cell_type": "code",
   "execution_count": 16,
   "metadata": {},
   "outputs": [],
   "source": [
    "def twoRayPt(Pr,Gl,Lambda,d):\n",
    "    return ((Pr * ((d)**(2)))/((math.sqrt(Gl)*ht*hr))**(2))"
   ]
  },
  {
   "cell_type": "code",
   "execution_count": 17,
   "metadata": {},
   "outputs": [],
   "source": [
    "def getCriticalDistance(ht,hr,Lambda):\n",
    "    return ((4*ht*hr)/Lambda)"
   ]
  },
  {
   "cell_type": "code",
   "execution_count": 18,
   "metadata": {},
   "outputs": [
    {
     "name": "stdout",
     "output_type": "stream",
     "text": [
      "Critical Distance for the first case is : 800.0\n",
      "Critical Distance for the first case is : 160.0\n"
     ]
    }
   ],
   "source": [
    "## Example 2.2\n",
    "\n",
    "f = 2*(10**9)\n",
    "givenHt=10\n",
    "givenHr=3\n",
    "\n",
    "print('Critical Distance for the first case is : {}'.format(getCriticalDistance(givenHt,givenHr,getLambda(f))))\n",
    "\n",
    "givenHt2=3\n",
    "givenHr2=2\n",
    "\n",
    "print('Critical Distance for the first case is : {}'.format(getCriticalDistance(givenHt2,givenHr2,getLambda(f))))"
   ]
  },
  {
   "cell_type": "markdown",
   "metadata": {},
   "source": [
    "## Simplified Path Loss\n",
    "\n",
    "Pr (dBm) = Pt (dBm) + K (dB) − 10γ log10(d/d0)\n",
    "\n",
    "Pr = Pt * K * (d/d0)^γ\n",
    "\n",
    "K (dB) = −20 log10(4πd0/λ)"
   ]
  },
  {
   "cell_type": "code",
   "execution_count": 32,
   "metadata": {},
   "outputs": [],
   "source": [
    "def calcKinDb(d0,Lambda):\n",
    "    return (-20*math.log10(((4*math.pi*d0)/Lambda)))"
   ]
  },
  {
   "cell_type": "code",
   "execution_count": 20,
   "metadata": {},
   "outputs": [],
   "source": [
    "def simpPathLossPrInDbm(Pt,K,Y,d,d0):\n",
    "    return Pt + K - (s10*Y*math.log(d/d0,10))"
   ]
  },
  {
   "cell_type": "code",
   "execution_count": 21,
   "metadata": {},
   "outputs": [],
   "source": [
    "def simpPathLossPtInDbm(Pr,K,Y,d,d0):\n",
    "    return Pr - K + (10*Y*math.log(d/d0,10))"
   ]
  },
  {
   "cell_type": "code",
   "execution_count": 22,
   "metadata": {},
   "outputs": [],
   "source": [
    "def simpPathLossPr(Pt,K,Y,d,d0):\n",
    "    return (Pt*K*((d/d0)**Y)) "
   ]
  },
  {
   "cell_type": "code",
   "execution_count": 23,
   "metadata": {},
   "outputs": [],
   "source": [
    "def simpPathLossPt(Pr,K,Y,d,d0):\n",
    "    return (Pr/(K*((d/d0)**Y)))"
   ]
  },
  {
   "cell_type": "markdown",
   "metadata": {},
   "source": [
    "### Mmodel(di) = K − 10γ log10(d) "
   ]
  },
  {
   "cell_type": "code",
   "execution_count": 26,
   "metadata": {},
   "outputs": [],
   "source": [
    "def gammaMinimizationFunction(x,y):\n",
    "    Mmeasured = [-70,-75,-90,-110,-125]\n",
    "    distances = [10,20,50,100,300]\n",
    "    F=0\n",
    "    Mmodel = []\n",
    "    for di in distances:\n",
    "        curr_M = y - 10*x*math.log(di,10)\n",
    "        Mmodel.append(curr_M)\n",
    "    for i in range(len(Mmeasured)):\n",
    "        curr_val = (Mmeasured[i]-Mmodel[i])**2\n",
    "        F+=curr_val\n",
    "    return F"
   ]
  },
  {
   "cell_type": "code",
   "execution_count": 54,
   "metadata": {},
   "outputs": [
    {
     "name": "stdout",
     "output_type": "stream",
     "text": [
      "The value of K in Db is : -31.52662237483517\n",
      "Our cost function f(x,y) is =  6158.07099590172*(0.254863504098572*x - 1)**2 + 1480.20078588853*(0.259919991881845*x - 1)**2 + 8737.27232465667*(0.265008210642939*x - 1)**2 + 3419.13589089513*(0.290554449449974*x - 1)**2 + 1889.93456214018*(0.299270511456849*x - 1)**2\n",
      "Partial Derivative wrt x is =  3143.06156716697*x - 11657.3941256352\n",
      "[3.70892961417320]\n",
      "Final answer for Y is : 3.70892961417320\n",
      "The Pr measured in Dbm is : -112.236315513386\n"
     ]
    }
   ],
   "source": [
    "## Example 2.3\n",
    "\n",
    "## M is the ration of Pr and Pt => in Db\n",
    "## D0 is 1\n",
    "\n",
    "questionParams = {\n",
    "    \"distanceFromTx\":[10,20,50,100,300],\n",
    "    \"M\":[-70,-75,-90,-110,-125]\n",
    "}\n",
    "\n",
    "f = 900*(10**6)\n",
    "\n",
    "## Calculate K\n",
    "measuredK = calcKinDb(1,getLambda(f))\n",
    "print(\"The value of K in Db is : {}\".format(measuredK))\n",
    "\n",
    "## Calc Mmodel which is a list corresponding to the given M List\n",
    "a,b=symbols('x,y')\n",
    "print('Our cost function f(x,y) is = ', gammaMinimizationFunction(a,measuredK))\n",
    "print('Partial Derivative wrt x is = ', diff(gammaMinimizationFunction(a,measuredK),a))\n",
    "\n",
    "res = solve(diff(gammaMinimizationFunction(a,measuredK),a),a)\n",
    "print(res)\n",
    "print(\"Final answer for Y is : {}\".format(res[0]))\n",
    "\n",
    "newGamma = res[0]\n",
    "PtGiven = 0\n",
    "dGiven = 150\n",
    "\n",
    "PrFound = simpPathLossPrInDbm(PtGiven,measuredK,newGamma,dGiven,1)  \n",
    "print(\"The Pr measured in Dbm is : {}\".format(PrFound))  "
   ]
  },
  {
   "cell_type": "code",
   "execution_count": null,
   "metadata": {},
   "outputs": [],
   "source": [
    " "
   ]
  },
  {
   "cell_type": "code",
   "execution_count": null,
   "metadata": {},
   "outputs": [],
   "source": []
  },
  {
   "cell_type": "code",
   "execution_count": null,
   "metadata": {},
   "outputs": [],
   "source": []
  }
 ],
 "metadata": {
  "kernelspec": {
   "display_name": "Python 3",
   "language": "python",
   "name": "python3"
  },
  "language_info": {
   "codemirror_mode": {
    "name": "ipython",
    "version": 3
   },
   "file_extension": ".py",
   "mimetype": "text/x-python",
   "name": "python",
   "nbconvert_exporter": "python",
   "pygments_lexer": "ipython3",
   "version": "3.6.9"
  }
 },
 "nbformat": 4,
 "nbformat_minor": 4
}
