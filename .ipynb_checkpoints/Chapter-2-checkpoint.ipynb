{
 "cells": [
  {
   "cell_type": "code",
   "execution_count": 3,
   "metadata": {},
   "outputs": [],
   "source": [
    "import numpy as np\n",
    "import pandas as pd\n",
    "import math"
   ]
  },
  {
   "cell_type": "markdown",
   "metadata": {},
   "source": [
    "## Get wavelength if frequency is given"
   ]
  },
  {
   "cell_type": "code",
   "execution_count": 6,
   "metadata": {},
   "outputs": [],
   "source": [
    "def getLambda(freq):\n",
    "    return ((3*(10**8))/freq)"
   ]
  },
  {
   "cell_type": "markdown",
   "metadata": {},
   "source": [
    "## Convert Power to dB"
   ]
  },
  {
   "cell_type": "code",
   "execution_count": 18,
   "metadata": {},
   "outputs": [],
   "source": [
    "def getPower(val):\n",
    "    return (10*math.log(val,10))"
   ]
  },
  {
   "cell_type": "code",
   "execution_count": 25,
   "metadata": {},
   "outputs": [],
   "source": [
    "def getPowerDbm(val):\n",
    "    return (10*math.log(val/0.001,10))"
   ]
  },
  {
   "cell_type": "markdown",
   "metadata": {},
   "source": [
    "## Calculate Pr, Pt etc\n",
    "\n",
    "Pr (dBm) = Pt (dBm) + 10 log10(Gl) + 20 log10(λ) − 20 log10(4π) − 20 log10(d)."
   ]
  },
  {
   "cell_type": "code",
   "execution_count": 8,
   "metadata": {},
   "outputs": [],
   "source": [
    "def calPrInDbm(Pt,Gl,Lambda,d):\n",
    "    return Pt + (10*math.log(Gl,10)) +def calPrInDbm(Pt,Gl,Lambda,d):\n",
    "    return Pt + (10*math.log(Gl,10)) + (20*math.log(Lambda,10)) - (20*math.log(4*math.pi,10)) - (20*math.log(d,10)) (20*math.log(Lambda,10)) - (20*math.log(4*math.pi,10)) - (20*math.log(d,10))"
   ]
  },
  {
   "cell_type": "code",
   "execution_count": 7,
   "metadata": {},
   "outputs": [],
   "source": [
    "def calPtInDbm(Pr,Gl,Lambda,d):\n",
    "    return Pr - (10*math.log(Gl,10)) - (20*math.log(Lambda,10)) + (20*math.log(4*math.pi,10)) + (20*math.log(d,10))"
   ]
  },
  {
   "cell_type": "code",
   "execution_count": 23,
   "metadata": {},
   "outputs": [],
   "source": [
    "def calPt(Pr,Gl,Lambda,d):\n",
    "    return ((Pr * ((4*math.pi*d)**2))/((math.sqrt(Gl)*Lambda))**2)"
   ]
  },
  {
   "cell_type": "code",
   "execution_count": 24,
   "metadata": {},
   "outputs": [],
   "source": [
    "def calPr(Pt,Gl,Lambda,d):\n",
    "    return ((Pt * ((4*math.pi*d)**(-2)))/((math.sqrt(Gl)*Lambda))**(-2))def simpPathLossPrInDbm(Pt,K,Y,d,d0):\n",
    "    return Pt + K - (10*Y*math.log(d/d0,10))"
   ]
  },
  {
   "cell_type": "code",
   "execution_count": 34,
   "metadata": {},
   "outputs": [
    {
     "name": "stdout",
     "output_type": "stream",
     "text": [
      "Power in Watts is : 142.12230337568676\n",
      "Power in dbw is : 21.52662237483517\n"
     ]
    }
   ],
   "source": [
    "## Example 2.1\n",
    "\n",
    "f = 900*(10**6)\n",
    "rad = 100\n",
    "recPower = 10*(10**(-6))\n",
    "txpower = calPt(recPower,1,getLambda(f),rad)\n",
    "print('Power in Watts is : {}'.format(txpower))\n",
    "print('Power in dbw is : {}'.format(getPower(txpower)))"
   ]
  },
  {
   "cell_type": "markdown",
   "metadata": {},
   "source": [
    "## 2 ray model\n",
    "\n",
    "Pr (dBm) = Pt (dBm) + 10 log10(Gl) + 20 log10(hthr) − 40 log10(d)"
   ]
  },
  {
   "cell_type": "code",
   "execution_count": 27,
   "metadata": {},
   "outputs": [],
   "source": [
    "def twoRayPrInDbm(Pt,Gl,ht,hr,d):\n",
    "    return Pt + (10*math.log(Gl,10)) + (20*math.log(ht*hr,10)) - (20*math.log(4*math.pi,10)) - (20*math.log(d,10))"
   ]
  },
  {
   "cell_type": "code",
   "execution_count": 36,
   "metadata": {},
   "outputs": [],
   "source": [
    "def twoRayPtInDbm(Pr,Gl,ht,hr,d):\n",
    "    return Pr - (10*math.log(Gl,10)) - (20*math.log(ht*hr,10)) + (20*math.log(4*math.pi,10)) + (20*math.log(d,10))"
   ]
  },
  {
   "cell_type": "code",
   "execution_count": 28,
   "metadata": {},
   "outputs": [],
   "source": [
    "def twoRayPr(Pt,Gl,Lambda,d):\n",
    "    return ((Pt * ((d)**(-2)))/((math.sqrt(Gl)*ht*hr))**(-2))"
   ]
  },
  {
   "cell_type": "code",
   "execution_count": 37,
   "metadata": {},
   "outputs": [],
   "source": [
    "def twoRayPt(Pr,Gl,Lambda,d):\n",
    "    return ((Pr * ((d)**(2)))/((math.sqrt(Gl)*ht*hr))**(2))"
   ]
  },
  {
   "cell_type": "code",
   "execution_count": 29,
   "metadata": {},
   "outputs": [],
   "source": [
    "def getCriticalDistance(ht,hr,Lambda):\n",
    "    return ((4*ht*hr)/Lambda)"
   ]
  },
  {
   "cell_type": "code",
   "execution_count": 35,
   "metadata": {},
   "outputs": [
    {
     "name": "stdout",
     "output_type": "stream",
     "text": [
      "Critical Distance for the first case is : 800.0\n",
      "Critical Distance for the first case is : 160.0\n"
     ]
    }
   ],
   "source": [
    "## Example 2.2\n",
    "\n",
    "f = 2*(10**9)\n",
    "givenHt=10\n",
    "givenHr=3\n",
    "\n",
    "print('Critical Distance for the first case is : {}'.format(getCriticalDistance(givenHt,givenHr,getLambda(f))))\n",
    "\n",
    "givenHt2=3\n",
    "givenHr2=2\n",
    "\n",
    "print('Critical Distance for the first case is : {}'.format(getCriticalDistance(givenHt2,givenHr2,getLambda(f))))"
   ]
  },
  {
   "cell_type": "markdown",
   "metadata": {},
   "source": [
    "## Simplified Path Loss\n",
    "\n",
    "Pr (dBm) = Pt (dBm) + K (dB) − 10γ log10(d/d0)\n",
    "\n",
    "Pr = Pt * K * (d/d0)^γ\n",
    "\n",
    "K (dB) = −20 log10(4πd0/λ)"
   ]
  },
  {
   "cell_type": "code",
   "execution_count": 42,
   "metadata": {},
   "outputs": [],
   "source": [
    "def calcKinDb(d0,Lambda):\n",
    "    return (-20*math.log(((4*math.pi*d0)/Lambda),10))"
   ]
  },
  {
   "cell_type": "code",
   "execution_count": 38,
   "metadata": {},
   "outputs": [],
   "source": [
    "def simpPathLossPrInDbm(Pt,K,Y,d,d0):\n",
    "    return Pt + K - (10*Y*math.log(d/d0,10))"
   ]
  },
  {
   "cell_type": "code",
   "execution_count": 40,
   "metadata": {},
   "outputs": [],
   "source": [
    "def simpPathLossPtInDbm(Pr,K,Y,d,d0):\n",
    "    return Pr - K + (10*Y*math.log(d/d0,10))"
   ]
  },
  {
   "cell_type": "code",
   "execution_count": 39,
   "metadata": {},
   "outputs": [],
   "source": [
    "def simpPathLossPr(Pt,K,Y,d,d0):\n",
    "    return (Pt*K*((d/d0)**Y)) "
   ]
  },
  {
   "cell_type": "code",
   "execution_count": 41,
   "metadata": {},
   "outputs": [],
   "source": [
    "def simpPathLossPt(Pr,K,Y,d,d0):\n",
    "    return (Pr/(K*((d/d0)**Y)))"
   ]
  },
  {
   "cell_type": "markdown",
   "metadata": {},
   "source": [
    "### Mmodel(di) = K − 10γ log10(d) "
   ]
  },
  {
   "cell_type": "code",
   "execution_count": 46,
   "metadata": {},
   "outputs": [],
   "source": [
    "def gammaMinimizationFunction(x,y):\n",
    "    Mmeasured = [-70,-75,-90,-110,-125]\n",
    "    F=0\n",
    "    Mmodel = []\n",
    "    for di in Mmeasured:\n",
    "        curr_M = y - 10*x*math.log(di,10)\n",
    "        Mmodel.append(curr_M)\n",
    "    for i in range(len(Mmeasured)):\n",
    "        curr_val = (Mmeasured[i]-Mmodel[i])**2\n",
    "        F+=curr_val\n",
    "    return F"
   ]
  },
  {
   "cell_type": "code",
   "execution_count": 47,
   "metadata": {},
   "outputs": [
    {
     "name": "stdout",
     "output_type": "stream",
     "text": [
      "The value of K in Db is : \n"
     ]
    },
    {
     "ename": "NameError",
     "evalue": "name 'symbols' is not defined",
     "output_type": "error",
     "traceback": [
      "\u001b[0;31m---------------------------------------------------------------------------\u001b[0m",
      "\u001b[0;31mNameError\u001b[0m                                 Traceback (most recent call last)",
      "\u001b[0;32m<ipython-input-47-41a2a8efdc77>\u001b[0m in \u001b[0;36m<module>\u001b[0;34m\u001b[0m\n\u001b[1;32m     17\u001b[0m \u001b[0;31m## Calc Mmodel which is a list corresponding to the given M List\u001b[0m\u001b[0;34m\u001b[0m\u001b[0;34m\u001b[0m\u001b[0;34m\u001b[0m\u001b[0m\n\u001b[1;32m     18\u001b[0m \u001b[0;34m\u001b[0m\u001b[0m\n\u001b[0;32m---> 19\u001b[0;31m \u001b[0ma\u001b[0m\u001b[0;34m,\u001b[0m\u001b[0mb\u001b[0m\u001b[0;34m=\u001b[0m\u001b[0msymbols\u001b[0m\u001b[0;34m(\u001b[0m\u001b[0;34m'x,y'\u001b[0m\u001b[0;34m)\u001b[0m\u001b[0;34m\u001b[0m\u001b[0;34m\u001b[0m\u001b[0m\n\u001b[0m\u001b[1;32m     20\u001b[0m \u001b[0mprint\u001b[0m\u001b[0;34m(\u001b[0m\u001b[0;34m'Our cost function f(x,y) is = '\u001b[0m\u001b[0;34m,\u001b[0m \u001b[0mgammaMinimizationFunction\u001b[0m\u001b[0;34m(\u001b[0m\u001b[0ma\u001b[0m\u001b[0;34m,\u001b[0m\u001b[0mb\u001b[0m\u001b[0;34m)\u001b[0m\u001b[0;34m)\u001b[0m\u001b[0;34m\u001b[0m\u001b[0;34m\u001b[0m\u001b[0m\n\u001b[1;32m     21\u001b[0m \u001b[0mprint\u001b[0m\u001b[0;34m(\u001b[0m\u001b[0;34m'Partial Derivative wrt x is = '\u001b[0m\u001b[0;34m,\u001b[0m \u001b[0mdiff\u001b[0m\u001b[0;34m(\u001b[0m\u001b[0mgammaMinimizationFunction\u001b[0m\u001b[0;34m(\u001b[0m\u001b[0ma\u001b[0m\u001b[0;34m,\u001b[0m\u001b[0mb\u001b[0m\u001b[0;34m)\u001b[0m\u001b[0;34m,\u001b[0m\u001b[0ma\u001b[0m\u001b[0;34m)\u001b[0m\u001b[0;34m)\u001b[0m\u001b[0;34m\u001b[0m\u001b[0;34m\u001b[0m\u001b[0m\n",
      "\u001b[0;31mNameError\u001b[0m: name 'symbols' is not defined"
     ]
    }
   ],
   "source": [
    "## Example 2.3\n",
    "\n",
    "## M is the ration of Pr and Pt => in Db\n",
    "## D0 is 1\n",
    "\n",
    "questionParams = {\n",
    "    \"distanceFromTx\":[10,20,50,100,300],\n",
    "    \"M\":[-70,-75,-90,-110,-125]\n",
    "}\n",
    "\n",
    "f = 2*(10**9)\n",
    "\n",
    "## Calculate K\n",
    "measuredK = calcKinDb(1,getLambda(f))\n",
    "print(\"The value of K in Db is : \".format(measuredK))\n",
    "\n",
    "## Calc Mmodel which is a list corresponding to the given M List\n",
    "\n",
    "a,b=symbols('x,y')\n",
    "print('Our cost function f(x,y) is = ', gammaMinimizationFunction(a,b))\n",
    "print('Partial Derivative wrt x is = ', diff(gammaMinimizationFunction(a,b),a))\n"
   ]
  },
  {
   "cell_type": "code",
   "execution_count": null,
   "metadata": {},
   "outputs": [],
   "source": []
  },
  {
   "cell_type": "code",
   "execution_count": null,
   "metadata": {},
   "outputs": [],
   "source": []
  }
 ],
 "metadata": {
  "kernelspec": {
   "display_name": "Python 3",
   "language": "python",
   "name": "python3"
  },
  "language_info": {
   "codemirror_mode": {
    "name": "ipython",
    "version": 3
   },
   "file_extension": ".py",
   "mimetype": "text/x-python",
   "name": "python",
   "nbconvert_exporter": "python",
   "pygments_lexer": "ipython3",
   "version": "3.6.9"
  }
 },
 "nbformat": 4,
 "nbformat_minor": 4
}
