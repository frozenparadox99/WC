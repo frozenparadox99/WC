{
 "cells": [
  {
   "cell_type": "code",
   "execution_count": 3,
   "metadata": {},
   "outputs": [],
   "source": [
    "import numpy as np\n",
    "import pandas as pd\n",
    "import math"
   ]
  },
  {
   "cell_type": "markdown",
   "metadata": {},
   "source": [
    "## Get wavelength if frequency is given"
   ]
  },
  {
   "cell_type": "code",
   "execution_count": 6,
   "metadata": {},
   "outputs": [],
   "source": [
    "def getLambda(freq):\n",
    "    return ((3*(10**8))/freq)"
   ]
  },
  {
   "cell_type": "markdown",
   "metadata": {},
   "source": [
    "## Convert Power to dB"
   ]
  },
  {
   "cell_type": "code",
   "execution_count": 18,
   "metadata": {},
   "outputs": [],
   "source": [
    "def getPower(val):\n",
    "    return (10*math.log(val,10))"
   ]
  },
  {
   "cell_type": "code",
   "execution_count": 25,
   "metadata": {},
   "outputs": [],
   "source": [
    "def getPowerDbm(val):\n",
    "    return (10*math.log(val/0.001,10))"
   ]
  },
  {
   "cell_type": "markdown",
   "metadata": {},
   "source": [
    "## Calculate Pr, Pt etc\n",
    "\n",
    "Pr (dBm) = Pt (dBm) + 10 log10(Gl) + 20 log10(λ) − 20 log10(4π) − 20 log10(d)."
   ]
  },
  {
   "cell_type": "code",
   "execution_count": 8,
   "metadata": {},
   "outputs": [],
   "source": [
    "def calPrInDbm(Pt,Gl,Lambda,d):\n",
    "    return Pt + (10*math.log(Gl,10)) +def calPrInDbm(Pt,Gl,Lambda,d):\n",
    "    return Pt + (10*math.log(Gl,10)) + (20*math.log(Lambda,10)) - (20*math.log(4*math.pi,10)) - (20*math.log(d,10)) (20*math.log(Lambda,10)) - (20*math.log(4*math.pi,10)) - (20*math.log(d,10))"
   ]
  },
  {
   "cell_type": "code",
   "execution_count": 7,
   "metadata": {},
   "outputs": [],
   "source": [
    "def calPtInDbm(Pr,Gl,Lambda,d):\n",
    "    return Pr - (10*math.log(Gl,10)) - (20*math.log(Lambda,10)) + (20*math.log(4*math.pi,10)) + (20*math.log(d,10))"
   ]
  },
  {
   "cell_type": "code",
   "execution_count": 23,
   "metadata": {},
   "outputs": [],
   "source": [
    "def calPt(Pr,Gl,Lambda,d):\n",
    "    return ((Pr * ((4*math.pi*d)**2))/((math.sqrt(Gl)*Lambda))**2)"
   ]
  },
  {
   "cell_type": "code",
   "execution_count": 24,
   "metadata": {},
   "outputs": [],
   "source": [
    "def calPr(Pt,Gl,Lambda,d):\n",
    "    return ((Pt * ((4*math.pi*d)**(-2)))/((math.sqrt(Gl)*Lambda))**(-2))"
   ]
  },
  {
   "cell_type": "code",
   "execution_count": 34,
   "metadata": {},
   "outputs": [
    {
     "name": "stdout",
     "output_type": "stream",
     "text": [
      "Power in Watts is : 142.12230337568676\n",
      "Power in dbw is : 21.52662237483517\n"
     ]
    }
   ],
   "source": [
    "## Example 2.1\n",
    "\n",
    "f = 900*(10**6)\n",
    "rad = 100\n",
    "recPower = 10*(10**(-6))\n",
    "txpower = calPt(recPower,1,getLambda(f),rad)\n",
    "print('Power in Watts is : {}'.format(txpower))\n",
    "print('Power in dbw is : {}'.format(getPower(txpower)))"
   ]
  },
  {
   "cell_type": "markdown",
   "metadata": {},
   "source": [
    "## 2 ray model\n",
    "\n",
    "Pr (dBm) = Pt (dBm) + 10 log10(Gl) + 20 log10(hthr) − 40 log10(d)"
   ]
  },
  {
   "cell_type": "code",
   "execution_count": 27,
   "metadata": {},
   "outputs": [],
   "source": [
    "def twoRayPrInDbm(Pt,Gl,ht,hr,d):\n",
    "    return Pt + (10*math.log(Gl,10)) + (20*math.log(ht*hr,10)) - (20*math.log(4*math.pi,10)) - (20*math.log(d,10))"
   ]
  },
  {
   "cell_type": "code",
   "execution_count": 28,
   "metadata": {},
   "outputs": [],
   "source": [
    "def twoRayPr(Pt,Gl,Lambda,d):\n",
    "    return ((Pt * ((d)**(-2)))/((math.sqrt(Gl)*ht*hr))**(-2))"
   ]
  },
  {
   "cell_type": "code",
   "execution_count": 29,
   "metadata": {},
   "outputs": [],
   "source": [
    "def getCriticalDistance(ht,hr,Lambda):\n",
    "    return ((4*ht*hr)/Lambda)"
   ]
  },
  {
   "cell_type": "code",
   "execution_count": 35,
   "metadata": {},
   "outputs": [
    {
     "name": "stdout",
     "output_type": "stream",
     "text": [
      "Critical Distance for the first case is : 800.0\n",
      "Critical Distance for the first case is : 160.0\n"
     ]
    }
   ],
   "source": [
    "## Example 2.2\n",
    "\n",
    "f = 2*(10**9)\n",
    "givenHt=10\n",
    "givenHr=3\n",
    "\n",
    "print('Critical Distance for the first case is : {}'.format(getCriticalDistance(givenHt,givenHr,getLambda(f))))\n",
    "\n",
    "givenHt2=3\n",
    "givenHr2=2\n",
    "\n",
    "print('Critical Distance for the first case is : {}'.format(getCriticalDistance(givenHt2,givenHr2,getLambda(f))))"
   ]
  },
  {
   "cell_type": "markdown",
   "metadata": {},
   "source": [
    "## Simplified Path Loss\n",
    "\n",
    "Pr (dBm) = Pt (dBm) + K (dB) − 10γ log10(d/d0)"
   ]
  },
  {
   "cell_type": "code",
   "execution_count": null,
   "metadata": {},
   "outputs": [],
   "source": [
    "def simpPathLossPrInDbm(Pt,K,Y,d,d0):\n",
    "    return Pt + (10*math.log(Gl,10)) + (20*math.log(ht*hr,10)) - (20*math.log(4*math.pi,10)) - (20*math.log(d,10))"
   ]
  },
  {
   "cell_type": "code",
   "execution_count": null,
   "metadata": {},
   "outputs": [],
   "source": []
  },
  {
   "cell_type": "code",
   "execution_count": null,
   "metadata": {},
   "outputs": [],
   "source": []
  }
 ],
 "metadata": {
  "kernelspec": {
   "display_name": "Python 3",
   "language": "python",
   "name": "python3"
  },
  "language_info": {
   "codemirror_mode": {
    "name": "ipython",
    "version": 3
   },
   "file_extension": ".py",
   "mimetype": "text/x-python",
   "name": "python",
   "nbconvert_exporter": "python",
   "pygments_lexer": "ipython3",
   "version": "3.6.9"
  }
 },
 "nbformat": 4,
 "nbformat_minor": 4
}
